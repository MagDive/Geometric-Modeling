{
 "cells": [
  {
   "cell_type": "markdown",
   "metadata": {},
   "source": [
    "## Plotly interactive spherical Voronoi diagram ##"
   ]
  },
  {
   "cell_type": "markdown",
   "metadata": {},
   "source": [
    "Starting with version 0.18.0, `scipy` provides the class [`scipy.spatial.SphericalVoronoi`](http://docs.scipy.org/doc/scipy/reference/generated/scipy.spatial.SphericalVoronoi.html), that defines a spherical Voronoi diagram associated to a set of points on a sphere. \n",
    "\n",
    "The example posted at the above link suggests to visualize the Voronoi diagram  as a `mpl_toolkits.mplot3d.art3d.Poly3DCollection`. The collection of polygons has only the vertices on the sphere and  it represents an approximation of the spherical Voronoi diagram.\n",
    "                                             \n",
    "In this Jupyter Notebook we project the sides of the polygons onto the sphere, in order to get the true boundaries of the spherical Voronoi regions. The spherical Voronoi diagram is visualized as an interactive Plotly plot.\n",
    "\n",
    "A second Plotly  plot displays a colored polyhedral approximation of a spherical Voronoi diagram."
   ]
  },
  {
   "cell_type": "code",
   "execution_count": 2,
   "metadata": {
    "collapsed": false
   },
   "outputs": [
    {
     "data": {
      "text/plain": [
       "'0.18.0'"
      ]
     },
     "execution_count": 2,
     "metadata": {},
     "output_type": "execute_result"
    }
   ],
   "source": [
    "import scipy\n",
    "scipy. __version__"
   ]
  },
  {
   "cell_type": "code",
   "execution_count": 3,
   "metadata": {
    "collapsed": true
   },
   "outputs": [],
   "source": [
    "from scipy.spatial import SphericalVoronoi\n",
    "from scipy.interpolate import splev,  splprep\n",
    "import numpy as np"
   ]
  },
  {
   "cell_type": "code",
   "execution_count": 4,
   "metadata": {
    "collapsed": false
   },
   "outputs": [],
   "source": [
    "import plotly.plotly as py\n",
    "from plotly.graph_objs import *"
   ]
  },
  {
   "cell_type": "markdown",
   "metadata": {},
   "source": [
    "We are working with the unit sphere S(center=O, radius=1)."
   ]
  },
  {
   "cell_type": "code",
   "execution_count": 5,
   "metadata": {
    "collapsed": false
   },
   "outputs": [],
   "source": [
    "def sphere():\n",
    "    theta=np.linspace(0, 2*np.pi, 200)\n",
    "    phi=np.linspace(0, np.pi, 100)\n",
    "    theta, phi=np.meshgrid(theta, phi)\n",
    "    x=np.cos(theta)*np.sin(phi)\n",
    "    y=np.sin(theta)*np.sin(phi)\n",
    "    z=np.cos(phi)\n",
    "    return x, y ,z"
   ]
  },
  {
   "cell_type": "markdown",
   "metadata": {
    "collapsed": false
   },
   "source": [
    "Define the `SphericalVoronoi` object associated to a set of points"
   ]
  },
  {
   "cell_type": "code",
   "execution_count": 6,
   "metadata": {
    "collapsed": false
   },
   "outputs": [],
   "source": [
    "def s_Voronoi(points):\n",
    "    if not isinstance(points, np.ndarray):\n",
    "        raise ValueError('points must be a numpy array of shape (n,3)')\n",
    "        \n",
    "    center = np.zeros(3)\n",
    "    radius = 1.0\n",
    "    sv = SphericalVoronoi(points, radius, center)\n",
    "    sv.sort_vertices_of_regions()# sort vertices\n",
    "    return sv"
   ]
  },
  {
   "cell_type": "markdown",
   "metadata": {
    "collapsed": false
   },
   "source": [
    "  - `sv.vertices` is the numpy array of all Voronoi vertices (3d points on the unit sphere).\n",
    "  - `sv.regions` is a list of lists. An inner list stores the indices of vertices associated to a region:"
   ]
  },
  {
   "cell_type": "markdown",
   "metadata": {},
   "source": [
    "N points uniformly distributed on the unit sphere are defined as unit vectors associated to N 3D-vectors,  of independent coordinates, generated from the standard normal distribution:"
   ]
  },
  {
   "cell_type": "code",
   "execution_count": 7,
   "metadata": {
    "collapsed": true
   },
   "outputs": [],
   "source": [
    "def points_sphere(N=80):\n",
    "    points=np.random.randn(N,3)\n",
    "    return points/np.linalg.norm(points, axis=1)[:, None]"
   ]
  },
  {
   "cell_type": "markdown",
   "metadata": {},
   "source": [
    "In order to get the spherical arcs as boundaries of the Voronoi regions we proceed as follows:"
   ]
  },
  {
   "cell_type": "markdown",
   "metadata": {},
   "source": [
    "For each pair of consecutive points, $P_k, P_{k+1}$, defining a Voronoi region, compute 5 points on the segment having these points as ends.\n",
    "The five points are projected (via a central projection of center O) onto the sphere of radius $R$, and the  corresponding points  are spline interpolated to get a spherical arc:"
   ]
  },
  {
   "cell_type": "code",
   "execution_count": 8,
   "metadata": {
    "collapsed": false
   },
   "outputs": [],
   "source": [
    "def spheric_arcs(sv, R=1.005):\n",
    "    \n",
    "    #sv is an instance of SphericalVoronoi class\n",
    "    #R is a radius slightly greater than 1; the arcs are plotted on the shere of radius R\n",
    "    #to avoid to be covered by the sphere surface\n",
    "    \n",
    "    t=np.array([0, 0.25, 0.5, 0.75, 1.0])# five parameters for convex combination of points\n",
    "    p=(1-t)[:, None]\n",
    "    q=t[:, None]\n",
    "    #Xa, Ya, Za  are the lists of point coordinates to be plotted as spherical arcs\n",
    "    Xa=[]\n",
    "    Ya=[]\n",
    "    Za=[]\n",
    "    for region in sv.regions:\n",
    "        P=sv.vertices[region]#P is an array whose rows are the vertices of the Voronoi points on the sphere\n",
    "        L=P.shape[0]\n",
    "        for k in range(L):\n",
    "            B=np.array([P[k,:]]*5)\n",
    "            C=np.array([P[(k+1)%L, :]]*5)\n",
    "            A=B*p+C*q#A is an array of 5 points on the segment of ends P[k,:], P[(k+1)%L, :]\n",
    "       \n",
    "            A=R*A/np.linalg.norm(A, axis=1)[:, None]#central projection of the points in A onto the sphere \n",
    "            tck,u=splprep([A[:,0],A[:,1],A[:,2]],s=0)\n",
    "            xi,yi, zi= splev(np.linspace(0,1,20),tck)#spline interpolation of the five points on sphere\n",
    "            Xa+=xi.tolist()\n",
    "            Ya+=yi.tolist()\n",
    "            Za+=zi.tolist()\n",
    "        Xa+=[None]  #after processing a region insert None in each list to avoid \n",
    "        Ya+=[None]  #unwanted lines from one region to another\n",
    "        Za+=[None]\n",
    "    \n",
    "    return Xa, Ya, Za"
   ]
  },
  {
   "cell_type": "markdown",
   "metadata": {},
   "source": [
    "The planar approximations of the spherical Voronoi regions are polygons in the 3d space. The union of their sides is returned by the function:"
   ]
  },
  {
   "cell_type": "code",
   "execution_count": 9,
   "metadata": {
    "collapsed": true
   },
   "outputs": [],
   "source": [
    "def polygons(sv):\n",
    "    Xp=[]\n",
    "    Yp=[]\n",
    "    Zp=[]\n",
    "\n",
    "    for region in sv.regions:\n",
    "        V=sv.vertices[region]\n",
    "        Xp+=V[:,0].tolist()+[V[0,0], None]\n",
    "        Yp+=V[:,1].tolist()+[V[0,1], None]\n",
    "        Zp+=V[:,2].tolist()+[V[0,2], None]\n",
    "    return Xp, Yp, Zp    "
   ]
  },
  {
   "cell_type": "markdown",
   "metadata": {},
   "source": [
    "\n",
    "The collection of all polygons that represent the  Voronoi regions defines a polyhedral approximation of the spherical Voronoi diagram. This approximation can be visualized as a Plotly Mesh3d object. \n",
    "\n",
    "Namely, since each Voronoi region is  a convex polygon, we can triangulate it adding diagonals from the vertex 0  to all non-adjacent vertices.\n",
    "The triangles of a region are colored with the same color chosen randomly from a list colors.\n",
    "\n",
    "The following function triangulates each region and assigns to its triangles (simplices) a color:"
   ]
  },
  {
   "cell_type": "code",
   "execution_count": 10,
   "metadata": {
    "collapsed": true
   },
   "outputs": [],
   "source": [
    "def triangulate_regions(sv, colors):\n",
    "\n",
    "    simplices=[]# a list of 3-lists of integers giving the vertex indices of a triangle\n",
    "    facecolor=[]# the list of colors associated to each simplex in the triangulation\n",
    "   \n",
    "    for k, region  in enumerate(sv.regions):\n",
    "        color=colors[np.random.randint(0, len(colors))]# choose the color for the region region\n",
    "        #triangulate the region \n",
    "        simplices+=[[region[0], region[j], region[j+1]] for j in range(1, len(region)-1)]\n",
    "        facecolor+=[color for _  in range(1, len(region)-1)]\n",
    "    return simplices, facecolor"
   ]
  },
  {
   "cell_type": "markdown",
   "metadata": {},
   "source": [
    "Depending on the type of plot, spherical arcs on sphere or polyhedral approximation of the Voronoi diagram,\n",
    "the function `get_data` defines the Plotly objects involved in each plot (sphere, points, arcs, respectively,\n",
    "points, line segments, colored Voronoi regions):"
   ]
  },
  {
   "cell_type": "code",
   "execution_count": 11,
   "metadata": {
    "collapsed": true
   },
   "outputs": [],
   "source": [
    "def get_data(points,  R=1.005, arcs=True, colorscale=[], colors=[]):\n",
    "    \n",
    "    #for arcs=True, and colorscale of length at least 2, the function set up data for plotting the sphere, data points and\n",
    "    #spherical arcs \n",
    "    # for arcs=False, and length of colors,  non zero -> data for the polyhedral approximation: points, sides of polygons, \n",
    "    # colored planar Voronoi regions\n",
    "    \n",
    "    sv=s_Voronoi(points)\n",
    "    \n",
    "    if arcs:\n",
    "        if  len(colorscale)<2:\n",
    "            raise ValueError('the colorscale must have at least length=2')\n",
    "        x, y, z=sphere()\n",
    "        sphere_surf=Surface(x=x, y=y, z=z, colorscale=colorscale, showscale=False, name='sphere')\n",
    "        data_pts=Scatter3d(x=R*points[:,0], y=R*points[:,1], z=R*points[:,2], name='points',\n",
    "                   mode='markers', marker=dict(color='black', size=3))\n",
    "        Xa, Ya, Za=spheric_arcs(sv,R=R)\n",
    "        lines=Scatter3d(x=Xa, y=Ya, z=Za,  name='spheric arc',  mode='lines',\n",
    "                line=dict(width=2, color='rgb(10,10,10)')) \n",
    "        \n",
    "        return Data([sphere_surf, data_pts, lines ])\n",
    "    else:\n",
    "        if len(colors)==0:\n",
    "            raise ValueError('the list of colors is empty')\n",
    "        simplices, facecolor=triangulate_regions(sv, colors=colors)    \n",
    "        I, J, K=np.array(simplices).T\n",
    "        x,y,z=sv.vertices.T\n",
    "        triangles=Mesh3d(x=x,\n",
    "                     y=y,\n",
    "                     z=z,\n",
    "                     facecolor=facecolor, \n",
    "                     i=I,\n",
    "                     j=J,\n",
    "                     k=K,\n",
    "                     name='',\n",
    "                    )\n",
    "        data_pts=Scatter3d(x=points[:,0], y=points[:,1], z=points[:,2], name='points',\n",
    "                   mode='markers', marker=dict(color='black', size=2))\n",
    "        Xp, Yp, Zp=polygons(sv)\n",
    "        lines=Scatter3d(x=Xp, y=Yp, z=Zp,  name='spheric arc',  mode='lines',\n",
    "                line=dict(width=2, color='rgb(10,10,10)')) \n",
    "        \n",
    "        return Data([triangles, data_pts, lines])"
   ]
  },
  {
   "cell_type": "markdown",
   "metadata": {},
   "source": [
    "Set the plot layout (with axes or not):"
   ]
  },
  {
   "cell_type": "code",
   "execution_count": 12,
   "metadata": {
    "collapsed": true
   },
   "outputs": [],
   "source": [
    "axis = dict(\n",
    "            showbackground=True, \n",
    "            backgroundcolor='rgb(40,40,40)', #\"rgb(230, 230,230)\",\n",
    "            gridcolor='rgb(255, 255, 255)',      \n",
    "            zerolinecolor='rgb(255, 255, 255)',  \n",
    "            )\n",
    "noaxis=dict(showbackground=False,\n",
    "            showgrid=False,\n",
    "            showline=False,\n",
    "            showticklabels=False,\n",
    "            ticks='',\n",
    "            title='',\n",
    "            zeroline=False)"
   ]
  },
  {
   "cell_type": "code",
   "execution_count": 13,
   "metadata": {
    "collapsed": false
   },
   "outputs": [],
   "source": [
    "def plot_layout(ax=noaxis):\n",
    "\n",
    "    return Layout(title='Spherical Voronoi Diagram',\n",
    "                  font=dict(family='Balto', size=16),\n",
    "                  width=700,\n",
    "                  height=700,\n",
    "                  showlegend=False,\n",
    "                  scene=Scene(xaxis=XAxis(ax),\n",
    "                              yaxis=YAxis(ax), \n",
    "                              zaxis=ZAxis(ax), \n",
    "                              aspectratio=dict(x=1,\n",
    "                                               y=1,\n",
    "                                               z=1\n",
    "                                              ),\n",
    "                                )\n",
    "                    )\n",
    "  \n"
   ]
  },
  {
   "cell_type": "markdown",
   "metadata": {},
   "source": [
    "### The Plotly plot of spherical Voronoi regions ###"
   ]
  },
  {
   "cell_type": "code",
   "execution_count": 15,
   "metadata": {
    "collapsed": true
   },
   "outputs": [],
   "source": [
    "points=points_sphere(N=80)"
   ]
  },
  {
   "cell_type": "markdown",
   "metadata": {},
   "source": [
    "Define a custom Plotly colorscale to plot the sphere:"
   ]
  },
  {
   "cell_type": "code",
   "execution_count": 16,
   "metadata": {
    "collapsed": true
   },
   "outputs": [],
   "source": [
    "pl_col=[[0.0, 'rgb(230,230,230)'], [1.0, 'rgb(230,230,230)']]"
   ]
  },
  {
   "cell_type": "code",
   "execution_count": 17,
   "metadata": {
    "collapsed": false
   },
   "outputs": [],
   "source": [
    "data1=get_data(points,  R=1.005, arcs=True, colorscale=pl_col, colors=[])"
   ]
  },
  {
   "cell_type": "code",
   "execution_count": 18,
   "metadata": {
    "collapsed": false
   },
   "outputs": [
    {
     "data": {
      "text/html": [
       "<iframe id=\"igraph\" scrolling=\"no\" style=\"border:none;\" seamless=\"seamless\" src=\"https://plot.ly/~empet/13992.embed\" height=\"700px\" width=\"700px\"></iframe>"
      ],
      "text/plain": [
       "<plotly.tools.PlotlyDisplay object>"
      ]
     },
     "execution_count": 18,
     "metadata": {},
     "output_type": "execute_result"
    }
   ],
   "source": [
    "fig1 = Figure(data=data1, layout=plot_layout(ax=axis))\n",
    "py.sign_in('empet', 'jhog40sb94')\n",
    "py.iplot(fig1, filename='sph-voronoi-axes')"
   ]
  },
  {
   "cell_type": "markdown",
   "metadata": {},
   "source": [
    "###  Polyhedral approximation of a spherical Voronoi diagram ###"
   ]
  },
  {
   "cell_type": "markdown",
   "metadata": {},
   "source": [
    "List of colors for planar Voronoi regions:"
   ]
  },
  {
   "cell_type": "code",
   "execution_count": 19,
   "metadata": {
    "collapsed": true
   },
   "outputs": [],
   "source": [
    "colors=['rgb(53,195,176)',\n",
    "'rgb(168,201,121)',\n",
    "'rgb(255,210,181)',\n",
    "'rgb(255,169,164)',\n",
    "'rgb(255,140,148)']"
   ]
  },
  {
   "cell_type": "code",
   "execution_count": 20,
   "metadata": {
    "collapsed": false
   },
   "outputs": [],
   "source": [
    "points=points_sphere(N=100)\n",
    "data2=get_data(points,  R=1.005, arcs=False, colorscale=[], colors=colors)"
   ]
  },
  {
   "cell_type": "code",
   "execution_count": 21,
   "metadata": {
    "collapsed": false
   },
   "outputs": [
    {
     "data": {
      "text/html": [
       "<iframe id=\"igraph\" scrolling=\"no\" style=\"border:none;\" seamless=\"seamless\" src=\"https://plot.ly/~empet/13997.embed\" height=\"700px\" width=\"700px\"></iframe>"
      ],
      "text/plain": [
       "<plotly.tools.PlotlyDisplay object>"
      ]
     },
     "execution_count": 21,
     "metadata": {},
     "output_type": "execute_result"
    }
   ],
   "source": [
    "fig2 = Figure(data=data2, layout=plot_layout(ax=noaxis))\n",
    "fig2['layout'].update(title='Polyhedral approximation of a spherical Voronoi diagram')\n",
    "py.iplot(fig2, filename='polyhedral-voronoi')"
   ]
  },
  {
   "cell_type": "code",
   "execution_count": 22,
   "metadata": {
    "collapsed": false
   },
   "outputs": [
    {
     "data": {
      "text/html": [
       "<style>\n",
       "    /*body {\n",
       "        background-color: #F5F5F5;\n",
       "    }*/\n",
       "    div.cell{\n",
       "        width: 900px;\n",
       "        margin-left: 13% !important;\n",
       "        margin-right: auto;\n",
       "    }\n",
       "    #notebook li { /* More space between bullet points */\n",
       "    margin-top:0.8em;\n",
       "    }\n",
       "\n",
       "    h1 {\n",
       "        font-family: 'Alegreya Sans', sans-serif;\n",
       "    }\n",
       "    .text_cell_render h1 {\n",
       "        font-weight: 200;\n",
       "        font-size: 40pt;\n",
       "        line-height: 100%;\n",
       "        color: rgb(8, 66, 133);\n",
       "        margin-bottom: 0em;\n",
       "        margin-top: 0em;\n",
       "        display: block;\n",
       "    }\n",
       "    h2 {\n",
       "        font-family: 'Fenix', serif;\n",
       "        text-indent:1em;\n",
       "        text-align:center;\n",
       "    }\n",
       "    .text_cell_render h2 {\n",
       "        font-weight: 200;\n",
       "        font-size: 28pt;\n",
       "        line-height: 100%;\n",
       "        color: rgb(8, 66, 133);\n",
       "        margin-bottom: 1.5em;\n",
       "        margin-top: 0.5em;\n",
       "        display: block;\n",
       "    }\n",
       "    h3 {\n",
       "        font-family: 'Fenix', serif;\n",
       "        %margin-top:12px;\n",
       "        %margin-bottom: 3px;\n",
       "    }\n",
       "    .text_cell_render h3 {\n",
       "        font-weight: 300;\n",
       "        font-size: 18pt;\n",
       "        line-height: 100%;\n",
       "        color: rgb(8, 66, 133);\n",
       "        margin-bottom: 0.5em;\n",
       "        margin-top: 2em;\n",
       "        display: block;\n",
       "    }\n",
       "    h4 {\n",
       "        font-family: 'Fenix', serif;\n",
       "    }\n",
       "    .text_cell_render h4 {\n",
       "        font-weight: 300;\n",
       "        font-size: 16pt;\n",
       "        color: rgb(8, 66, 133);\n",
       "        margin-bottom: 0.5em;\n",
       "        margin-top: 0.5em;\n",
       "        display: block;\n",
       "    }\n",
       "    h5 {\n",
       "        font-family: 'Alegreya Sans', sans-serif;\n",
       "    }\n",
       "    .text_cell_render h5 {\n",
       "        font-weight: 300;\n",
       "        font-style: normal;\n",
       "        font-size: 16pt;\n",
       "        margin-bottom: 0em;\n",
       "        margin-top: 1.5em;\n",
       "        display: block;\n",
       "        }\n",
       "    div.text_cell_render{\n",
       "        font-family: 'Alegreya Sans',Computer Modern, \"Helvetica Neue\", Arial, Helvetica, Geneva, sans-serif;\n",
       "        line-height: 145%;\n",
       "        font-size: 130%;\n",
       "        width:900px;\n",
       "        margin-left:auto;\n",
       "        margin-right:auto;\n",
       "        %text-align:justify;\n",
       "        %text-justify:inter-word;\n",
       "    }\n",
       "    \n",
       "    \n",
       "    code{\n",
       "      font-size: 78%;\n",
       "    }\n",
       "    .rendered_html code{\n",
       "        background-color: transparent;\n",
       "        white-space: inherit;   \n",
       "    }\n",
       "    .prompt{\n",
       "        display: None;\n",
       "     }\n",
       "    .rendered_html code{\n",
       "    background-color: transparent;\n",
       "    }\n",
       "\n",
       "    blockquote{\n",
       "      display:block;\n",
       "      background: #f3f3f3;\n",
       "      font-family: \"Open sans\",verdana,arial,sans-serif;\n",
       "      width:610px;\n",
       "      padding: 15px 15px 15px 15px;\n",
       "      text-align:justify;\n",
       "      text-justify:inter-word;\n",
       "      }\n",
       "      blockquote p {\n",
       "        margin-bottom: 0;\n",
       "        line-height: 125%;\n",
       "        font-size: 100%;\n",
       "      }\n",
       "   /* element.style {\n",
       "    } */\n",
       "</style>\n",
       "<script>\n",
       "    MathJax.Hub.Config({\n",
       "                        TeX: {\n",
       "                           extensions: [\"AMSmath.js\"]\n",
       "                           },\n",
       "                tex2jax: {\n",
       "                    inlineMath: [ [\"$\",\"$\"], [\"\\\\(\",\"\\\\)\"] ],\n",
       "                    displayMath: [ [\"$$\",\"$$\"], [\"\\\\[\",\"\\\\]\"] ]\n",
       "                },\n",
       "                displayAlign: \"center\", // Change this to \"center\" to center equations.\n",
       "                \"HTML-CSS\": {\n",
       "                    styles: {\".MathJax_Display\": {\"margin\": 4}}\n",
       "                }\n",
       "        });\n",
       "</script>\n"
      ],
      "text/plain": [
       "<IPython.core.display.HTML object>"
      ]
     },
     "execution_count": 22,
     "metadata": {},
     "output_type": "execute_result"
    }
   ],
   "source": [
    "from IPython.core.display import HTML\n",
    "def  css_styling():\n",
    "    styles = open(\"./custom.css\", \"r\").read()\n",
    "    return HTML(styles)\n",
    "css_styling()"
   ]
  }
 ],
 "metadata": {
  "kernelspec": {
   "display_name": "Python 2",
   "language": "python",
   "name": "python2"
  },
  "language_info": {
   "codemirror_mode": {
    "name": "ipython",
    "version": 2
   },
   "file_extension": ".py",
   "mimetype": "text/x-python",
   "name": "python",
   "nbconvert_exporter": "python",
   "pygments_lexer": "ipython2",
   "version": "2.7.11"
  }
 },
 "nbformat": 4,
 "nbformat_minor": 0
}
